{
  "nbformat": 4,
  "nbformat_minor": 0,
  "metadata": {
    "colab": {
      "provenance": []
    },
    "kernelspec": {
      "name": "python3",
      "display_name": "Python 3"
    },
    "language_info": {
      "name": "python"
    }
  },
  "cells": [
    {
      "cell_type": "markdown",
      "source": [
        "**Theoritical Question**"
      ],
      "metadata": {
        "id": "ytnUrDYGcYqd"
      }
    },
    {
      "cell_type": "markdown",
      "source": [
        "Q1.  What is Python, and why is it popular?\n",
        "   - Python is general to use and powerful programming language. It is very popular amongs developers beacuse of easy to use quality and excellent liabriries like Numpy, Pandas etc.\n",
        "\n",
        "Q2. What is an interpreter in Python?\n",
        "   - Interpreter in python executes code in python.\n",
        "\n",
        "Q3. What are pre-defined keywords in Python?\n",
        "   - Pre-defined key words in python is a set of words which are already stored in python and cannot be used as variables.\n",
        "\n",
        "Q4. Can keywords be used as variable name?\n",
        "  - No, keywords cannot be used as variable name as keywords are already stored for different use in python.\n",
        "\n",
        "Q5. What is mutability in Python?\n",
        "   - Mutability in python is when the value of an object in a container can be changed by user after it is created. E.g - List\n",
        "\n",
        "Q6.  Why are lists mutable, but tuples are immutable?\n",
        "  - Lists are mutable and vlaues of object can be changed/updated as it is designed to provide flexibility to user where Tuples are immutable and vlaues of object cannot be changed as it is designed this way to provide fix values to user.\n",
        "\n",
        "Q7. What is the difference between “==” and “is” operators in Python?\n",
        "   - The difference between both operators is that comparison operator (==) compares the value of two objects where identity operators (is) compares the location of two objects in memory block.\n",
        "\n",
        "Q8. What are logical operators in Python?\n",
        "  - Logical operators (And/or) in python is used to check/compare the value of two objects and gives results in boolean value (True/False).\n",
        "\n",
        "Q9.  What is type casting in Python?\n",
        "   - Type casting/Type conversion means to change the data type of an object/variable. e.g Changing data type of a variable from str to int, int to float etc.\n",
        "\n",
        "Q10. What is the difference between implicit and explicit type casting?\n",
        "  - The difference between implicit and explicit type casting is that when a user can change data type of an object/variable is called explicit type casting for example changing data type of a variable from str to int , but under implicit type casting the data type of an object/variable get changed implicitly/automatically, for example adding an int and float value will change int to float value automatically.\n",
        "\n",
        "Q11. What is the purpose of conditional statements in Python?\n",
        "  - Conditional statements in python is used so that a code can be executed on the basis of evaluation on conditions. There can be one or more conditions applied at the same time.\n",
        "\n",
        "Q12. How does the elif statement work?\n",
        "  - elif statemnt is used to add mulitple condition along with if,else statemnt. For example, If tea is available i will drink tea, elif i will drink coffee, else i will drink nothing.\n",
        "\n",
        "Q13.  What is the difference between for and while loops?\n",
        "  - \"while\" loops are used to execute a code until a particular/specified condition become false and \"For\" loops are used for iterating over a sequence of elements.\n",
        "\n",
        "Q14. Describe a scenario where a while loop is more suitable than a for loop.\n",
        "  - It is better to use \"while\" loop than \"For\" loop when you do not know the number of iteration or do not have a stop value.\n",
        "\n",
        "\n",
        "\n"
      ],
      "metadata": {
        "id": "pfqFyRNEZhcB"
      }
    },
    {
      "cell_type": "markdown",
      "source": [
        "***Practical Questions***"
      ],
      "metadata": {
        "id": "J45hZL2ptJPJ"
      }
    },
    {
      "cell_type": "code",
      "source": [
        "#Q1.  Write a Python program to print \"Hello, World!\"\n",
        "print(\"Hello, World!\")"
      ],
      "metadata": {
        "colab": {
          "base_uri": "https://localhost:8080/"
        },
        "id": "JdkisHsCtIwz",
        "outputId": "11bd4b40-812f-4033-fda6-6d06ef22ecee"
      },
      "execution_count": 2,
      "outputs": [
        {
          "output_type": "stream",
          "name": "stdout",
          "text": [
            "Hello, World!\n"
          ]
        }
      ]
    },
    {
      "cell_type": "code",
      "source": [
        "#Q2.  Write a Python program that displays your name and age.\n",
        "Name = \"Gaurav\"\n",
        "Age = 30\n",
        "print(f\"My name is {Name} and my age is {Age}\")"
      ],
      "metadata": {
        "colab": {
          "base_uri": "https://localhost:8080/"
        },
        "id": "CFuqsqqvt0pv",
        "outputId": "df255fab-317f-4962-cfb3-12bf494f9a18"
      },
      "execution_count": 5,
      "outputs": [
        {
          "output_type": "stream",
          "name": "stdout",
          "text": [
            "My name is Gaurav and my age is 30\n"
          ]
        }
      ]
    },
    {
      "cell_type": "code",
      "source": [
        "#Q3.  Write code to print all the pre-defined keywords in Python using the keyword library.\n",
        "help(\"keywords\")"
      ],
      "metadata": {
        "colab": {
          "base_uri": "https://localhost:8080/"
        },
        "id": "cLUneQUJuC3N",
        "outputId": "3084b762-5581-4556-fe6b-84e7f35bd4ee"
      },
      "execution_count": 6,
      "outputs": [
        {
          "output_type": "stream",
          "name": "stdout",
          "text": [
            "\n",
            "Here is a list of the Python keywords.  Enter any keyword to get more help.\n",
            "\n",
            "False               class               from                or\n",
            "None                continue            global              pass\n",
            "True                def                 if                  raise\n",
            "and                 del                 import              return\n",
            "as                  elif                in                  try\n",
            "assert              else                is                  while\n",
            "async               except              lambda              with\n",
            "await               finally             nonlocal            yield\n",
            "break               for                 not                 \n",
            "\n"
          ]
        }
      ]
    },
    {
      "cell_type": "code",
      "source": [
        "#Q4. Write a program that checks if a given word is a Python keyword.\n",
        "import keyword\n",
        "\n",
        "x = input(\"Enter a word: \")\n",
        "if x in keyword.kwlist:\n",
        "    print(f\"{x} is a keyword\")\n",
        "else:\n",
        "    print(f\"{x} is not a keyword\")"
      ],
      "metadata": {
        "colab": {
          "base_uri": "https://localhost:8080/"
        },
        "id": "KCQ7BxsGurT2",
        "outputId": "38f5b2e1-9956-4190-ab0a-ee6b8e6e5f54"
      },
      "execution_count": 14,
      "outputs": [
        {
          "output_type": "stream",
          "name": "stdout",
          "text": [
            "Enter a word: else\n",
            "else is a keyword\n"
          ]
        }
      ]
    },
    {
      "cell_type": "code",
      "source": [
        "#Q5. Create a list and tuple in Python, and demonstrate how attempting to change an element works differently for each.\n",
        "\n",
        "list_cont=[1,2,3,4,5,\"rahul\",\"soni\",8,9]\n",
        "list_cont[5]"
      ],
      "metadata": {
        "colab": {
          "base_uri": "https://localhost:8080/",
          "height": 36
        },
        "id": "9o7dC00Lvb6G",
        "outputId": "4b9d5387-8325-48e4-dbca-52b9f7dfcc22"
      },
      "execution_count": 15,
      "outputs": [
        {
          "output_type": "execute_result",
          "data": {
            "text/plain": [
              "'rahul'"
            ],
            "application/vnd.google.colaboratory.intrinsic+json": {
              "type": "string"
            }
          },
          "metadata": {},
          "execution_count": 15
        }
      ]
    },
    {
      "cell_type": "code",
      "source": [
        "list_cont[5] = \"Raaj\"\n",
        "list_cont"
      ],
      "metadata": {
        "colab": {
          "base_uri": "https://localhost:8080/"
        },
        "id": "o9nxCdaNw9It",
        "outputId": "8dc79b79-ea69-4451-9b7a-f17e25c58ff7"
      },
      "execution_count": 16,
      "outputs": [
        {
          "output_type": "execute_result",
          "data": {
            "text/plain": [
              "[1, 2, 3, 4, 5, 'Raaj', 'soni', 8, 9]"
            ]
          },
          "metadata": {},
          "execution_count": 16
        }
      ]
    },
    {
      "cell_type": "code",
      "source": [
        "tuple_cont=(1,2,3,4,5,\"rahul\",\"soni\",8,9)\n",
        "tuple_cont[5]"
      ],
      "metadata": {
        "colab": {
          "base_uri": "https://localhost:8080/",
          "height": 36
        },
        "id": "56w4V7k5xEwh",
        "outputId": "23d31afe-1f59-40af-b899-0c75724cc4a5"
      },
      "execution_count": 17,
      "outputs": [
        {
          "output_type": "execute_result",
          "data": {
            "text/plain": [
              "'rahul'"
            ],
            "application/vnd.google.colaboratory.intrinsic+json": {
              "type": "string"
            }
          },
          "metadata": {},
          "execution_count": 17
        }
      ]
    },
    {
      "cell_type": "code",
      "source": [
        "tuple_cont[5] = \"Raaj\"\n",
        "tuple_cont"
      ],
      "metadata": {
        "colab": {
          "base_uri": "https://localhost:8080/",
          "height": 164
        },
        "id": "ns5UDh54xJJB",
        "outputId": "539b9e9e-63bf-4e62-c25e-a50562242f77"
      },
      "execution_count": 18,
      "outputs": [
        {
          "output_type": "error",
          "ename": "TypeError",
          "evalue": "'tuple' object does not support item assignment",
          "traceback": [
            "\u001b[0;31m---------------------------------------------------------------------------\u001b[0m",
            "\u001b[0;31mTypeError\u001b[0m                                 Traceback (most recent call last)",
            "\u001b[0;32m/tmp/ipython-input-18-4069799538.py\u001b[0m in \u001b[0;36m<cell line: 0>\u001b[0;34m()\u001b[0m\n\u001b[0;32m----> 1\u001b[0;31m \u001b[0mtuple_cont\u001b[0m\u001b[0;34m[\u001b[0m\u001b[0;36m5\u001b[0m\u001b[0;34m]\u001b[0m \u001b[0;34m=\u001b[0m \u001b[0;34m\"Raaj\"\u001b[0m\u001b[0;34m\u001b[0m\u001b[0;34m\u001b[0m\u001b[0m\n\u001b[0m\u001b[1;32m      2\u001b[0m \u001b[0mtuple_cont\u001b[0m\u001b[0;34m\u001b[0m\u001b[0;34m\u001b[0m\u001b[0m\n",
            "\u001b[0;31mTypeError\u001b[0m: 'tuple' object does not support item assignment"
          ]
        }
      ]
    },
    {
      "cell_type": "code",
      "source": [
        "#Q6. Write a function to demonstrate the behavior of mutable and immutable arguments.\n",
        "#Mutalibity\n",
        "list_cont=[1,2,3,4,5,\"rahul\",\"soni\",8,9]\n",
        "list_cont[5] = \"Raaj\"\n",
        "list_cont"
      ],
      "metadata": {
        "colab": {
          "base_uri": "https://localhost:8080/"
        },
        "id": "RAQq9a-ZxMA_",
        "outputId": "c88115df-8960-4411-8991-dee669b132e9"
      },
      "execution_count": 19,
      "outputs": [
        {
          "output_type": "execute_result",
          "data": {
            "text/plain": [
              "[1, 2, 3, 4, 5, 'Raaj', 'soni', 8, 9]"
            ]
          },
          "metadata": {},
          "execution_count": 19
        }
      ]
    },
    {
      "cell_type": "code",
      "source": [
        "#Immutability\n",
        "tuple_cont=(1,2,3,4,5,\"rahul\",\"soni\",8,9)\n",
        "tuple_cont[5] = \"Raaj\"\n",
        "tuple_cont"
      ],
      "metadata": {
        "colab": {
          "base_uri": "https://localhost:8080/",
          "height": 200
        },
        "id": "xhuYRKfox8gd",
        "outputId": "090ed86c-37c3-4379-dc32-819d676fff9b"
      },
      "execution_count": 22,
      "outputs": [
        {
          "output_type": "error",
          "ename": "TypeError",
          "evalue": "'tuple' object does not support item assignment",
          "traceback": [
            "\u001b[0;31m---------------------------------------------------------------------------\u001b[0m",
            "\u001b[0;31mTypeError\u001b[0m                                 Traceback (most recent call last)",
            "\u001b[0;32m/tmp/ipython-input-22-1908680596.py\u001b[0m in \u001b[0;36m<cell line: 0>\u001b[0;34m()\u001b[0m\n\u001b[1;32m      1\u001b[0m \u001b[0;31m#Immutability\u001b[0m\u001b[0;34m\u001b[0m\u001b[0;34m\u001b[0m\u001b[0m\n\u001b[1;32m      2\u001b[0m \u001b[0mtuple_cont\u001b[0m\u001b[0;34m=\u001b[0m\u001b[0;34m(\u001b[0m\u001b[0;36m1\u001b[0m\u001b[0;34m,\u001b[0m\u001b[0;36m2\u001b[0m\u001b[0;34m,\u001b[0m\u001b[0;36m3\u001b[0m\u001b[0;34m,\u001b[0m\u001b[0;36m4\u001b[0m\u001b[0;34m,\u001b[0m\u001b[0;36m5\u001b[0m\u001b[0;34m,\u001b[0m\u001b[0;34m\"rahul\"\u001b[0m\u001b[0;34m,\u001b[0m\u001b[0;34m\"soni\"\u001b[0m\u001b[0;34m,\u001b[0m\u001b[0;36m8\u001b[0m\u001b[0;34m,\u001b[0m\u001b[0;36m9\u001b[0m\u001b[0;34m)\u001b[0m\u001b[0;34m\u001b[0m\u001b[0;34m\u001b[0m\u001b[0m\n\u001b[0;32m----> 3\u001b[0;31m \u001b[0mtuple_cont\u001b[0m\u001b[0;34m[\u001b[0m\u001b[0;36m5\u001b[0m\u001b[0;34m]\u001b[0m \u001b[0;34m=\u001b[0m \u001b[0;34m\"Raaj\"\u001b[0m\u001b[0;34m\u001b[0m\u001b[0;34m\u001b[0m\u001b[0m\n\u001b[0m\u001b[1;32m      4\u001b[0m \u001b[0mtuple_cont\u001b[0m\u001b[0;34m\u001b[0m\u001b[0;34m\u001b[0m\u001b[0m\n",
            "\u001b[0;31mTypeError\u001b[0m: 'tuple' object does not support item assignment"
          ]
        }
      ]
    },
    {
      "cell_type": "code",
      "source": [
        "#Q7. Write a program that performs basic arithmetic operations on two user-input numbers.\n",
        "x = int(input(\"Enter a value\"))\n",
        "y = int(input(\"Enter a value\"))\n",
        "print(x+y)\n",
        "print(x-y)\n",
        "print(x*y)\n",
        "print(x/y)"
      ],
      "metadata": {
        "colab": {
          "base_uri": "https://localhost:8080/"
        },
        "id": "RA9-aZhoyI9J",
        "outputId": "cd035f19-b638-4cb0-f060-d0cd837ce5d8"
      },
      "execution_count": 30,
      "outputs": [
        {
          "output_type": "stream",
          "name": "stdout",
          "text": [
            "Enter a value 8\n",
            "Enter a value 8\n",
            "16\n",
            "0\n",
            "64\n",
            "1.0\n"
          ]
        }
      ]
    },
    {
      "cell_type": "code",
      "source": [
        "#Q8. Write a program to demonstrate the use of logical operators.\n",
        "x = True\n",
        "y = False\n",
        "print(x and y)\n",
        "print(x or y)\n",
        "print(x and x)\n",
        "print(x or x)\n",
        "print(y and y)\n",
        "print(y or y)"
      ],
      "metadata": {
        "colab": {
          "base_uri": "https://localhost:8080/"
        },
        "id": "lrgRFo0Ly4o5",
        "outputId": "b71e99c8-8ee9-48d0-87ab-55ce038acc28"
      },
      "execution_count": 32,
      "outputs": [
        {
          "output_type": "stream",
          "name": "stdout",
          "text": [
            "False\n",
            "True\n",
            "True\n",
            "True\n",
            "False\n",
            "False\n"
          ]
        }
      ]
    },
    {
      "cell_type": "code",
      "source": [
        "#Q9. Write a Python program to convert user input from string to integer, float, and boolean types.\n",
        "x = input(\"Enter a value\")\n"
      ],
      "metadata": {
        "colab": {
          "base_uri": "https://localhost:8080/"
        },
        "id": "MCElZiOz0Iba",
        "outputId": "bc760d78-1031-43d4-fe9b-3298551d6fda"
      },
      "execution_count": 36,
      "outputs": [
        {
          "name": "stdout",
          "output_type": "stream",
          "text": [
            "Enter a value 8\n"
          ]
        }
      ]
    },
    {
      "cell_type": "code",
      "source": [
        "x = int(input(\"Enter a value\"))\n",
        "print(type(x))\n",
        "x = float(input(\"Enter a value\"))\n",
        "print(type(x))\n",
        "x = bool(input(\"Enter a value\"))\n",
        "print(type(x))"
      ],
      "metadata": {
        "colab": {
          "base_uri": "https://localhost:8080/"
        },
        "id": "N7wulkpZ0rQx",
        "outputId": "4042609a-1201-4aec-f5a5-2b5be6b081e5"
      },
      "execution_count": 40,
      "outputs": [
        {
          "output_type": "stream",
          "name": "stdout",
          "text": [
            "Enter a value 8\n",
            "<class 'int'>\n",
            "Enter a value 9\n",
            "<class 'float'>\n",
            "Enter a value 10\n",
            "<class 'bool'>\n"
          ]
        }
      ]
    },
    {
      "cell_type": "code",
      "source": [
        "#Q10.Write code to demonstrate type casting with list elements.\n",
        "list_cont=[1,2,3,4,5,6]\n",
        "list_cont[3]"
      ],
      "metadata": {
        "colab": {
          "base_uri": "https://localhost:8080/"
        },
        "id": "pRzuY1Lo1CBc",
        "outputId": "cc88b609-b5a8-4bb0-c4f3-d4245e5a13f1"
      },
      "execution_count": 41,
      "outputs": [
        {
          "output_type": "execute_result",
          "data": {
            "text/plain": [
              "4"
            ]
          },
          "metadata": {},
          "execution_count": 41
        }
      ]
    },
    {
      "cell_type": "code",
      "source": [
        "type(list_cont[3])"
      ],
      "metadata": {
        "colab": {
          "base_uri": "https://localhost:8080/"
        },
        "id": "oS4xDXFV2cP4",
        "outputId": "f3f41c07-165c-4ce5-d4a8-5da231ef9fec"
      },
      "execution_count": 42,
      "outputs": [
        {
          "output_type": "execute_result",
          "data": {
            "text/plain": [
              "int"
            ]
          },
          "metadata": {},
          "execution_count": 42
        }
      ]
    },
    {
      "cell_type": "code",
      "source": [
        "list_cont[3] = float(list_cont[3])"
      ],
      "metadata": {
        "id": "GsPlMoDP2e0D"
      },
      "execution_count": 44,
      "outputs": []
    },
    {
      "cell_type": "code",
      "source": [
        "type(list_cont[3])"
      ],
      "metadata": {
        "colab": {
          "base_uri": "https://localhost:8080/"
        },
        "id": "Gg13yyg_2i0l",
        "outputId": "a94e8799-3fcd-410b-8d7b-76351ee68aab"
      },
      "execution_count": 45,
      "outputs": [
        {
          "output_type": "execute_result",
          "data": {
            "text/plain": [
              "float"
            ]
          },
          "metadata": {},
          "execution_count": 45
        }
      ]
    },
    {
      "cell_type": "code",
      "source": [
        "#Q11.Write a program that checks if a number is positive, negative, or zero.\n",
        "x = int(input(\"Enter a value\"))\n",
        "if x>0:\n",
        "  print(\"Positive\")\n",
        "elif x<0:\n",
        "  print(\"Negative\")\n",
        "else:\n",
        "  print(\"Zero\")"
      ],
      "metadata": {
        "colab": {
          "base_uri": "https://localhost:8080/"
        },
        "id": "73azyvTy2ou5",
        "outputId": "043b3833-2d20-4bfa-da42-c1843136d2fb"
      },
      "execution_count": 46,
      "outputs": [
        {
          "output_type": "stream",
          "name": "stdout",
          "text": [
            "Enter a value 9\n",
            "Positive\n"
          ]
        }
      ]
    },
    {
      "cell_type": "code",
      "source": [
        "#Q12. Write a for loop to print numbers from 1 to 10.\n",
        "for i in range(1,11):\n",
        "  print(i)"
      ],
      "metadata": {
        "colab": {
          "base_uri": "https://localhost:8080/"
        },
        "id": "Hq0htSn-2_-R",
        "outputId": "61b26382-b79e-4082-bbfd-1123f5980552"
      },
      "execution_count": 47,
      "outputs": [
        {
          "output_type": "stream",
          "name": "stdout",
          "text": [
            "1\n",
            "2\n",
            "3\n",
            "4\n",
            "5\n",
            "6\n",
            "7\n",
            "8\n",
            "9\n",
            "10\n"
          ]
        }
      ]
    },
    {
      "cell_type": "code",
      "source": [
        "#Q13. Write a Python program to find the sum of all even numbers between 1 and 50.\n",
        "list(range(2,51,2))"
      ],
      "metadata": {
        "colab": {
          "base_uri": "https://localhost:8080/"
        },
        "id": "sDgp-f8T3MuE",
        "outputId": "3bdbdb9c-ac2a-400a-d0c0-8ac49f0784fd"
      },
      "execution_count": 51,
      "outputs": [
        {
          "output_type": "execute_result",
          "data": {
            "text/plain": [
              "[2,\n",
              " 4,\n",
              " 6,\n",
              " 8,\n",
              " 10,\n",
              " 12,\n",
              " 14,\n",
              " 16,\n",
              " 18,\n",
              " 20,\n",
              " 22,\n",
              " 24,\n",
              " 26,\n",
              " 28,\n",
              " 30,\n",
              " 32,\n",
              " 34,\n",
              " 36,\n",
              " 38,\n",
              " 40,\n",
              " 42,\n",
              " 44,\n",
              " 46,\n",
              " 48,\n",
              " 50]"
            ]
          },
          "metadata": {},
          "execution_count": 51
        }
      ]
    },
    {
      "cell_type": "code",
      "source": [
        "sum(list(range(2,51,2)))"
      ],
      "metadata": {
        "colab": {
          "base_uri": "https://localhost:8080/"
        },
        "id": "WFVweAri3oq8",
        "outputId": "f1a8a153-5f49-44c5-ecd4-8d3c5742c52f"
      },
      "execution_count": 53,
      "outputs": [
        {
          "output_type": "execute_result",
          "data": {
            "text/plain": [
              "650"
            ]
          },
          "metadata": {},
          "execution_count": 53
        }
      ]
    },
    {
      "cell_type": "code",
      "source": [
        "#Q15.Write a Python program to calculate the factorial of a number provided by the user using a while loop.\n",
        "num = int(input(\"Enter a value\"))\n",
        "factorial = 1\n",
        "while num>0:\n",
        "  factorial = factorial*num\n",
        "  num = num-1\n",
        "print(factorial)"
      ],
      "metadata": {
        "colab": {
          "base_uri": "https://localhost:8080/"
        },
        "id": "80P_2Uhk8X6G",
        "outputId": "c8253274-4347-4809-a046-10045a8cda69"
      },
      "execution_count": 59,
      "outputs": [
        {
          "output_type": "stream",
          "name": "stdout",
          "text": [
            "Enter a value 8\n",
            "40320\n"
          ]
        }
      ]
    },
    {
      "cell_type": "code",
      "source": [
        "#Q14. Write a program to reverse a string using a while loop.\n",
        "x = input(\"Enter a string\")\n",
        "i = len(x)-1\n",
        "while i>=0:\n",
        "  print(x[i])\n",
        "  i = i-1"
      ],
      "metadata": {
        "colab": {
          "base_uri": "https://localhost:8080/"
        },
        "id": "6LRpFfF98upQ",
        "outputId": "d9a822ef-b051-41da-b600-c9c822458f4a"
      },
      "execution_count": 60,
      "outputs": [
        {
          "output_type": "stream",
          "name": "stdout",
          "text": [
            "Enter a string Gaurav\n",
            "v\n",
            "a\n",
            "r\n",
            "u\n",
            "a\n",
            "G\n",
            " \n"
          ]
        }
      ]
    },
    {
      "cell_type": "code",
      "source": [],
      "metadata": {
        "id": "469Z50dg97GT"
      },
      "execution_count": null,
      "outputs": []
    }
  ]
}